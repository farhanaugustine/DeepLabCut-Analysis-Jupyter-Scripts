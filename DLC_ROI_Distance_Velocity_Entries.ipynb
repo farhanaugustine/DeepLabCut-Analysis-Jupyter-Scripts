{
 "cells": [
  {
   "cell_type": "markdown",
   "id": "60085e23",
   "metadata": {},
   "source": [
    "# Load Packages for Running this Script"
   ]
  },
  {
   "cell_type": "code",
   "execution_count": null,
   "id": "b3126fec",
   "metadata": {},
   "outputs": [],
   "source": [
    "%matplotlib notebook\n",
    "import pandas as pd\n",
    "import numpy as np #NumPy version >=1.18.5 is required. Install using `pip install numpy=1.24.1` or `conda install numpy=1.24.1` (withou quotes!)\n",
    "from scipy.signal import savgol_filter\n",
    "import matplotlib.pyplot as plt\n",
    "from matplotlib.widgets import RectangleSelector"
   ]
  },
  {
   "cell_type": "markdown",
   "id": "bccc0bdc",
   "metadata": {},
   "source": [
    "# Load Your \"CSV\" File"
   ]
  },
  {
   "cell_type": "code",
   "execution_count": null,
   "id": "5ad4b04c",
   "metadata": {},
   "outputs": [],
   "source": [
    "# Load CSV data, using the second and third rows as the header\n",
    "df = pd.read_csv(r\"C:\\Users\\Farha\\Downloads\\Mouse9_MetalExposed_T-maze_12-14-23DLC_resnet101_TMZ_Model_V2Dec16shuffle1_157000.csv\", header=[1, 2])\n",
    "print(df.columns)"
   ]
  },
  {
   "cell_type": "markdown",
   "id": "2167c057",
   "metadata": {},
   "source": [
    "# Create and Define Heads for body parts and X, Y , and Likelihood. "
   ]
  },
  {
   "cell_type": "code",
   "execution_count": null,
   "id": "4d7b59ee",
   "metadata": {},
   "outputs": [],
   "source": [
    "# Create a dictionary to map body part names to coordinate columns\n",
    "body_part_data = {}\n",
    "# Get unique body parts from the first level of the MultiIndex (excluding 'bodyparts')\n",
    "unique_body_parts = df.columns.get_level_values(0).unique().tolist()\n",
    "unique_body_parts.remove('bodyparts')\n",
    "\n",
    "for part in unique_body_parts:\n",
    "    # Use the MultiIndex to access the data\n",
    "    body_part_data[part] = {\n",
    "        \"x\": df.loc[:, (part, 'x')].to_numpy(),\n",
    "        \"y\": df.loc[:, (part, 'y')].to_numpy(),\n",
    "        \"likelihood\": df.loc[:, (part, 'likelihood')].to_numpy()\n",
    "    }\n",
    "\n",
    "for part in body_part_data.keys():\n",
    "    print(f\"body parts: {part}\")"
   ]
  },
  {
   "cell_type": "markdown",
   "id": "d8b57891",
   "metadata": {},
   "source": [
    "# Define Region of Interest (ROI) in this Block"
   ]
  },
  {
   "cell_type": "code",
   "execution_count": null,
   "id": "96018c03",
   "metadata": {},
   "outputs": [],
   "source": [
    "# Initialize variables for ROI\n",
    "roi_coords = []\n",
    "\n",
    "# Function to be called when the rectangle is drawn\n",
    "def onselect(eclick, erelease):\n",
    "    x1, y1 = eclick.xdata, eclick.ydata\n",
    "    x2, y2 = erelease.xdata, erelease.ydata\n",
    "    roi_coords.append((x1, y1, x2, y2))\n",
    "    print(f\"ROI: ({x1}, {y1}), ({x2}, {y2})\")\n",
    "    \n",
    "# Plot the data for the 'Thorax' body part\n",
    "fig, ax = plt.subplots()\n",
    "Head_x = body_part_data['Nose']['x']\n",
    "Head_y = body_part_data['Nose']['y']\n",
    "ax.plot(Head_x, Head_y, label='Nose')\n",
    "\n",
    "# Set useblit=True on most backends for enhanced performance\n",
    "toggle_selector = RectangleSelector(ax, onselect, useblit=True,\n",
    "                                    button=[1],  # Left mouse button\n",
    "                                    minspanx=5, minspany=5,\n",
    "                                    spancoords='pixels',\n",
    "                                    interactive=True)\n",
    "\n",
    "plt.show()"
   ]
  },
  {
   "cell_type": "markdown",
   "id": "c1f5c9ba",
   "metadata": {},
   "source": [
    "# Check if Body Parts are Present in the Region of Interest (ROI) and Calculate Distances, Velocities, and Time Spent in the ROI."
   ]
  },
  {
   "cell_type": "code",
   "execution_count": null,
   "id": "6a6bbe7a",
   "metadata": {},
   "outputs": [],
   "source": [
    "# Initialize the dictionaries\n",
    "distances = {}\n",
    "roi_time_spent = {}\n",
    "\n",
    "# Define function to check if points are in the ROI\n",
    "def is_in_roi(x, y, roi):\n",
    "    x1, y1, x2, y2 = roi\n",
    "    return (x1 < x < x2) and (y1 < y < y2)\n",
    "\n",
    "# Function to calculate distance between two points\n",
    "def calculate_distance(part_data_1, part_data_2, index):\n",
    "    return np.sqrt((part_data_1[\"x\"][index] - part_data_2[\"x\"][index])**2 +\n",
    "                   (part_data_1[\"y\"][index] - part_data_2[\"y\"][index])**2)\n",
    "\n",
    "# Function to update time spent in ROI\n",
    "def update_time_spent(roi_time_spent, part_pair, condition):\n",
    "    if condition:\n",
    "        roi_time_spent[part_pair] += 1\n",
    "\n",
    "# Function to calculate total time spent in ROI\n",
    "def calculate_total_time_in_roi(roi_time_spent):\n",
    "    return sum(roi_time_spent.values())\n",
    "\n",
    "# User-configurable list of body part pairs to track\n",
    "body_part_pairs = [(\"Thorax\", \"Head\")]  # Example pair; user can change body parts to match their own experiments\n",
    "\n",
    "# Calculate distances and time spent in ROI for each body part pair\n",
    "for part1, part2 in body_part_pairs:\n",
    "    distances[f\"{part1}-{part2}\"] = [calculate_distance(body_part_data[part1], body_part_data[part2], index)\n",
    "                                      for index in range(len(df))]\n",
    "    roi_time_spent[f\"{part1}-{part2}\"] = 0\n",
    "\n",
    "    # Update time spent in ROI for each frame\n",
    "    for index in range(len(df)):\n",
    "        update_time_spent(roi_time_spent, f\"{part1}-{part2}\",\n",
    "                          roi_coords and is_in_roi(body_part_data[part1][\"x\"][index], body_part_data[part1][\"y\"][index], roi_coords[-1]))\n",
    "\n",
    "# Calculate and print the total time spent in ROI\n",
    "total_time_in_roi = calculate_total_time_in_roi(roi_time_spent)\n",
    "print(f\"Total time spent in ROI: {total_time_in_roi} frames\")\n"
   ]
  },
  {
   "cell_type": "markdown",
   "id": "033da2ed",
   "metadata": {},
   "source": [
    "# Filter the Data with Savitzky-Golay Filter\n",
    "\n"
   ]
  },
  {
   "cell_type": "code",
   "execution_count": null,
   "id": "b87b4fa0",
   "metadata": {},
   "outputs": [],
   "source": [
    "# Assuming body_part_data is a dictionary with keys as body parts\n",
    "body_parts = list(body_part_data.keys())\n",
    "\n",
    "# Parameter for frame rate\n",
    "frame_rate = 30  # Replace with your actual frame rate\n",
    "\n",
    "# Initialize the dictionary for velocities\n",
    "velocities = {}\n",
    "\n",
    "# Calculate velocities and apply Savitzky-Golay filter for smoothing\n",
    "for part in body_parts:\n",
    "    # Ensure there are enough data points for velocity calculation\n",
    "    if len(body_part_data[part][\"x\"]) > 1:\n",
    "        # Calculate velocity as the difference in position over time\n",
    "        velocities[part] = np.diff(body_part_data[part][\"x\"]) / frame_rate\n",
    "        \n",
    "        # Determine the window length for the Savitzky-Golay filter\n",
    "        # It must be odd and less than the size of the data\n",
    "        window_length = min(15, len(velocities[part]) // 2 * 2 + 1)\n",
    "        \n",
    "        # Apply the Savitzky-Golay filter if the window length is valid\n",
    "        if window_length > 2:  # At least 3 points are needed to apply the filter\n",
    "            velocities[part] = savgol_filter(velocities[part], window_length=window_length, polyorder=3)\n",
    "        else:\n",
    "            print(f\"Not enough data points to apply Savitzky-Golay filter for {part}.\")\n",
    "    else:\n",
    "        print(f\"Not enough data points to calculate velocity for {part}.\")\n"
   ]
  },
  {
   "cell_type": "markdown",
   "id": "56a80f87",
   "metadata": {},
   "source": [
    "# Calculate Average Velocity of Each Body Parts"
   ]
  },
  {
   "cell_type": "code",
   "execution_count": null,
   "id": "f27169a4",
   "metadata": {},
   "outputs": [],
   "source": [
    "# Assuming velocities is a dictionary with keys as body parts and values as velocity data\n",
    "# Initialize the dictionary for average velocities\n",
    "average_velocities = {}\n",
    "\n",
    "# Iterate over each body part to calculate and print the average velocity\n",
    "for part in body_parts:\n",
    "    # Calculate the average velocity for each body part\n",
    "    average_velocity = np.mean(np.abs(velocities[part]))\n",
    "    # Store the average velocity in the dictionary\n",
    "    average_velocities[part] = average_velocity\n",
    "    # Print the average velocity for each body part\n",
    "    print(f\"Average velocity for {part}: {average_velocity:.2f} units/frame\")\n"
   ]
  },
  {
   "cell_type": "markdown",
   "id": "116abbd6",
   "metadata": {},
   "source": [
    "# Entries and Exits when Two Body Parts Simultaniously are present in the Regions of Interest for a specified number of frames. "
   ]
  },
  {
   "cell_type": "code",
   "execution_count": null,
   "id": "f33fb50e",
   "metadata": {},
   "outputs": [],
   "source": [
    "# Define the body parts you want to track\n",
    "parts_to_track = ['Nose', 'Head']  # User can replace with the body parts they're interested in\n",
    "\n",
    "# debound_frame assings the limit for the minimum consecutive frames that the mouse must have entered the ROI before it is counted as entry.\n",
    "def track_multi_part_entrances_exits(body_part_data, parts, roi, debounce_frames=30):\n",
    "    inside_roi = False\n",
    "    entrances = 0\n",
    "    exits = 0\n",
    "    inside_counter = 0  # Counter for consecutive frames inside the ROI\n",
    "    outside_counter = 0  # Counter for consecutive frames outside the ROI\n",
    "    \n",
    "    # Get the coordinates for the body parts\n",
    "    coords = {part: body_part_data[part] for part in parts}\n",
    "    \n",
    "    for i in range(len(body_part_data[parts[0]]['x'])):\n",
    "        # Check if all specified body parts are in the ROI\n",
    "        currently_inside = all(is_in_roi(coords[part]['x'][i], coords[part]['y'][i], roi) for part in parts)\n",
    "        \n",
    "        if currently_inside:\n",
    "            inside_counter += 1\n",
    "            outside_counter = 0  # Reset outside counter\n",
    "        else:\n",
    "            outside_counter += 1\n",
    "            inside_counter = 0  # Reset inside counter\n",
    "        \n",
    "        # Count entrance only if body parts have been inside for enough consecutive frames\n",
    "        if inside_counter >= debounce_frames and not inside_roi:\n",
    "            entrances += 1\n",
    "            inside_roi = True\n",
    "            inside_counter = 0  # Reset inside counter after counting entrance\n",
    "        \n",
    "        # Count exit only if body parts have been outside for enough consecutive frames\n",
    "        if outside_counter >= debounce_frames and inside_roi:\n",
    "            exits += 1\n",
    "            inside_roi = False\n",
    "            outside_counter = 0  # Reset outside counter after counting exit\n",
    "    \n",
    "    # Print the number of entrances and exits\n",
    "    print(f\"Entrances: {entrances}, Exits: {exits}\")\n",
    "    return entrances, exits\n",
    "\n",
    "# Example usage\n",
    "if roi_coords:  # Ensure that an ROI has been selected\n",
    "    last_roi = roi_coords[-1]  # Use the last ROI drawn\n",
    "    entrances, exits = track_multi_part_entrances_exits(body_part_data, parts_to_track, last_roi)\n",
    "    print(f\"The mouse entered the ROI {entrances} times and exited {exits} times with both 'Nose' and 'Head' inside.\")\n"
   ]
  },
  {
   "cell_type": "markdown",
   "id": "4fe42152",
   "metadata": {},
   "source": [
    "# Define a Threshold for Max Distance a Body Part Can move prior to calculating Distance Moved by body parts"
   ]
  },
  {
   "cell_type": "code",
   "execution_count": null,
   "id": "9881058d",
   "metadata": {},
   "outputs": [],
   "source": [
    "# Define the maximum distance a body part can move per frame (this should be based on your specific data)\n",
    "max_distance_per_frame = 100  # Example threshold value for the distance the mouse's bodyparts can move, adjust based on your data. Units are pixels.\n",
    "frame_rate = 30  # Frames per second, adjust based on your data\n",
    "\n",
    "def detect_jumps(x_coords, y_coords, max_distance):\n",
    "    jumps = []\n",
    "    for i in range(1, len(x_coords)):\n",
    "        distance = np.sqrt((x_coords[i] - x_coords[i-1])**2 + (y_coords[i] - y_coords[i-1])**2)\n",
    "        if distance > max_distance:\n",
    "            jumps.append(i)\n",
    "    return jumps\n",
    "\n",
    "def calculate_filtered_distance(body_part_data, part_name, max_distance_per_frame):\n",
    "    total_distance = 0\n",
    "    x_coords = body_part_data[part_name]['x']\n",
    "    y_coords = body_part_data[part_name]['y']\n",
    "    jumps = detect_jumps(x_coords, y_coords, max_distance_per_frame)\n",
    "    \n",
    "    for i in range(1, len(x_coords)):\n",
    "        if i not in jumps:\n",
    "            distance = np.sqrt((x_coords[i] - x_coords[i-1])**2 + (y_coords[i] - y_coords[i-1])**2)\n",
    "            total_distance += distance\n",
    "    \n",
    "    return total_distance, jumps\n",
    "\n",
    "# Calculate the filtered total distance moved for each body part\n",
    "body_parts = ['Head', 'Nose']  # Add 'TailBase' or other parts as needed\n",
    "distances = {}\n",
    "jumps_detected = {}\n",
    "\n",
    "for part in body_parts:\n",
    "    distances[part], jumps_detected[part] = calculate_filtered_distance(body_part_data, part, max_distance_per_frame)\n",
    "\n",
    "# Sum the distances moved by all tracked body parts in units\n",
    "total_filtered_distance_moved_in_units = sum(distances.values())\n",
    "\n",
    "# Print the filtered total distance moved for each body part and the total in units\n",
    "for part, distance in distances.items():\n",
    "    print(f\"Filtered total distance moved by the mouse's {part}: {distance:.0f} units\")\n",
    "    if jumps_detected[part]:\n",
    "        print(f\"Jumps detected for {part} at frames: {jumps_detected[part]}\")\n",
    "\n",
    "print(f\"Filtered total distance moved together by the mouse's {' and '.join(body_parts)}: {total_filtered_distance_moved_in_units:.0f} units\")\n"
   ]
  },
  {
   "cell_type": "code",
   "execution_count": null,
   "id": "745bcdcd",
   "metadata": {},
   "outputs": [],
   "source": []
  }
 ],
 "metadata": {
  "kernelspec": {
   "display_name": "Python 3 (ipykernel)",
   "language": "python",
   "name": "python3"
  },
  "language_info": {
   "codemirror_mode": {
    "name": "ipython",
    "version": 3
   },
   "file_extension": ".py",
   "mimetype": "text/x-python",
   "name": "python",
   "nbconvert_exporter": "python",
   "pygments_lexer": "ipython3",
   "version": "3.11.5"
  }
 },
 "nbformat": 4,
 "nbformat_minor": 5
}
